{
 "cells": [
  {
   "cell_type": "code",
   "execution_count": 1,
   "metadata": {},
   "outputs": [
    {
     "name": "stdout",
     "output_type": "stream",
     "text": [
      "Enter Number to calculate it's factorial: 3\n",
      "6\n"
     ]
    }
   ],
   "source": [
    "# Question:1\n",
    "# Write a Python function to calculate the factorial of a number (a non-negative\n",
    "# integer). The function accepts the number as an argument.\n",
    "\n",
    "def isPositiveInteger(number):\n",
    "    if int(number) > 0 :\n",
    "        return True\n",
    "    else:\n",
    "        return False\n",
    "def calcFactorial(number):\n",
    "    factorial = 1\n",
    "    if isPositiveInteger(number) == True:\n",
    "        number = int(number)\n",
    "        for i in range(1, number + 1):\n",
    "            factorial = factorial * i\n",
    "        print(factorial)\n",
    "    else:\n",
    "        print(\"Invalid input\")\n",
    "\n",
    "factCalc = input(\"Enter Number to calculate it's factorial: \")\n",
    "calcFactorial(factCalc)"
   ]
  },
  {
   "cell_type": "code",
   "execution_count": 4,
   "metadata": {},
   "outputs": [
    {
     "ename": "IndentationError",
     "evalue": "unexpected indent (<ipython-input-4-df0b11d825ca>, line 5)",
     "output_type": "error",
     "traceback": [
      "\u001b[1;36m  File \u001b[1;32m\"<ipython-input-4-df0b11d825ca>\"\u001b[1;36m, line \u001b[1;32m5\u001b[0m\n\u001b[1;33m    def caseCounter(string):\u001b[0m\n\u001b[1;37m    ^\u001b[0m\n\u001b[1;31mIndentationError\u001b[0m\u001b[1;31m:\u001b[0m unexpected indent\n"
     ]
    }
   ],
   "source": [
    "# Question:2\n",
    "# Write a Python function that accepts a string and calculate the number of upper\n",
    "# case letters and lower case letters.\n",
    "\n",
    "def caseCounter(string):\n",
    "    upper = 0\n",
    "    lower = 0\n",
    "    standardString = 'abcdefghijklmnopqrstuvwxyz'\n",
    "    for letter in string:\n",
    "        for sampleLetter in standardString:\n",
    "            if letter == sampleLetter:\n",
    "                lower += 1\n",
    "            elif letter == sampleLetter.upper():\n",
    "                upper += 1\n",
    "            else:\n",
    "                print(\"Invalid input\")\n",
    "    print(\"Upper Case Letter in the String are: {},\\nLower Case letters in the String are: {}\".format(upper, lower))\n",
    "string = input(\"Enter Any CamelCase String: \")\n",
    "caseCounter(string)\n"
   ]
  },
  {
   "cell_type": "code",
   "execution_count": null,
   "metadata": {},
   "outputs": [],
   "source": []
  }
 ],
 "metadata": {
  "kernelspec": {
   "display_name": "Python 3",
   "language": "python",
   "name": "python3"
  },
  "language_info": {
   "codemirror_mode": {
    "name": "ipython",
    "version": 3
   },
   "file_extension": ".py",
   "mimetype": "text/x-python",
   "name": "python",
   "nbconvert_exporter": "python",
   "pygments_lexer": "ipython3",
   "version": "3.7.4"
  }
 },
 "nbformat": 4,
 "nbformat_minor": 2
}
